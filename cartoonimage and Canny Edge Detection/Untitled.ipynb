{
 "cells": [
  {
   "cell_type": "code",
   "execution_count": 2,
   "metadata": {},
   "outputs": [
    {
     "ename": "error",
     "evalue": "OpenCV(4.2.0) /io/opencv/modules/core/src/arithm.cpp:234: error: (-209:Sizes of input arguments do not match) The operation is neither 'array op array' (where arrays have the same size and type), nor 'array op scalar', nor 'scalar op array' in function 'binary_op'\n",
     "output_type": "error",
     "traceback": [
      "\u001b[0;31m---------------------------------------------------------------------------\u001b[0m",
      "\u001b[0;31merror\u001b[0m                                     Traceback (most recent call last)",
      "\u001b[0;32m<ipython-input-2-a2d123b6578d>\u001b[0m in \u001b[0;36m<module>\u001b[0;34m\u001b[0m\n\u001b[1;32m     41\u001b[0m \u001b[0;31m# convert back to color, bit-AND with color image\u001b[0m\u001b[0;34m\u001b[0m\u001b[0;34m\u001b[0m\u001b[0;34m\u001b[0m\u001b[0m\n\u001b[1;32m     42\u001b[0m \u001b[0mimg_edge\u001b[0m \u001b[0;34m=\u001b[0m \u001b[0mcv2\u001b[0m\u001b[0;34m.\u001b[0m\u001b[0mcvtColor\u001b[0m\u001b[0;34m(\u001b[0m\u001b[0mimg_edge\u001b[0m\u001b[0;34m,\u001b[0m \u001b[0mcv2\u001b[0m\u001b[0;34m.\u001b[0m\u001b[0mCOLOR_GRAY2RGB\u001b[0m\u001b[0;34m)\u001b[0m\u001b[0;34m\u001b[0m\u001b[0;34m\u001b[0m\u001b[0m\n\u001b[0;32m---> 43\u001b[0;31m \u001b[0mimg_cartoon\u001b[0m \u001b[0;34m=\u001b[0m \u001b[0mcv2\u001b[0m\u001b[0;34m.\u001b[0m\u001b[0mbitwise_and\u001b[0m\u001b[0;34m(\u001b[0m\u001b[0mimg_color\u001b[0m\u001b[0;34m,\u001b[0m \u001b[0mimg_edge\u001b[0m\u001b[0;34m)\u001b[0m\u001b[0;34m\u001b[0m\u001b[0;34m\u001b[0m\u001b[0m\n\u001b[0m\u001b[1;32m     44\u001b[0m \u001b[0;34m\u001b[0m\u001b[0m\n\u001b[1;32m     45\u001b[0m \u001b[0;31m# display\u001b[0m\u001b[0;34m\u001b[0m\u001b[0;34m\u001b[0m\u001b[0;34m\u001b[0m\u001b[0m\n",
      "\u001b[0;31merror\u001b[0m: OpenCV(4.2.0) /io/opencv/modules/core/src/arithm.cpp:234: error: (-209:Sizes of input arguments do not match) The operation is neither 'array op array' (where arrays have the same size and type), nor 'array op scalar', nor 'scalar op array' in function 'binary_op'\n"
     ]
    }
   ],
   "source": [
    "#step 1\n",
    "#Use bilateral filter for edge-aware smoothing.\n",
    "import cv2\n",
    "\n",
    "num_down = 2 # number of downsampling steps\n",
    "num_bilateral = 7 # number of bilateral filtering steps\n",
    "\n",
    "img_rgb = cv2.imread(\"myCat.jpg\")\n",
    "\n",
    "# downsample image using Gaussian pyramid\n",
    "img_color = img_rgb\n",
    "for _ in range(num_down):\n",
    "   img_color = cv2.pyrDown(img_color)\n",
    "\n",
    "# repeatedly apply small bilateral filter instead of\n",
    "# applying one large filter\n",
    "for _ in range(num_bilateral):\n",
    "    img_color = cv2.bilateralFilter(img_color, d=9, sigmaColor=9, sigmaSpace=7)\n",
    "\n",
    "# upsample image to original size\n",
    "for _ in range(num_down):\n",
    "   img_color = cv2.pyrUp(img_color)\n",
    "\n",
    "#STEP 2 & 3\n",
    "#Use median filter to reduce noise\n",
    "# convert to grayscale and apply median blur\n",
    "img_gray = cv2.cvtColor(img_rgb, cv2.COLOR_RGB2GRAY)\n",
    "img_blur = cv2.medianBlur(img_gray, 7)\n",
    "\n",
    "#STEP 4\n",
    "#Use adaptive thresholding to create an edge mask\n",
    "# detect and enhance edges\n",
    "img_edge = cv2.adaptiveThreshold(img_blur, 255,\n",
    "   cv2.ADAPTIVE_THRESH_MEAN_C,\n",
    "   cv2.THRESH_BINARY,\n",
    "   blockSize=9,\n",
    "   C=2)\n",
    "\n",
    "# Step 5\n",
    "# Combine color image with edge mask & display picture\n",
    "# convert back to color, bit-AND with color image\n",
    "img_edge = cv2.cvtColor(img_edge, cv2.COLOR_GRAY2RGB)\n",
    "img_cartoon = cv2.bitwise_and(img_color, img_edge)\n",
    "\n",
    "# display\n",
    "cv2.imshow(\"myCat_cartoon\", img_cartoon)\n"
   ]
  },
  {
   "cell_type": "code",
   "execution_count": null,
   "metadata": {},
   "outputs": [],
   "source": []
  }
 ],
 "metadata": {
  "kernelspec": {
   "display_name": "Python 3",
   "language": "python",
   "name": "python3"
  },
  "language_info": {
   "codemirror_mode": {
    "name": "ipython",
    "version": 3
   },
   "file_extension": ".py",
   "mimetype": "text/x-python",
   "name": "python",
   "nbconvert_exporter": "python",
   "pygments_lexer": "ipython3",
   "version": "3.7.4"
  }
 },
 "nbformat": 4,
 "nbformat_minor": 2
}
